{
  "nbformat": 4,
  "nbformat_minor": 0,
  "metadata": {
    "colab": {
      "provenance": [],
      "authorship_tag": "ABX9TyOkNr36SV308GaPy0u65/pP",
      "include_colab_link": true
    },
    "kernelspec": {
      "name": "python3",
      "display_name": "Python 3"
    },
    "language_info": {
      "name": "python"
    }
  },
  "cells": [
    {
      "cell_type": "markdown",
      "metadata": {
        "id": "view-in-github",
        "colab_type": "text"
      },
      "source": [
        "<a href=\"https://colab.research.google.com/github/shilpadhiman06/EDA_project/blob/main/python_practice_questions_.ipynb\" target=\"_parent\"><img src=\"https://colab.research.google.com/assets/colab-badge.svg\" alt=\"Open In Colab\"/></a>"
      ]
    },
    {
      "cell_type": "code",
      "execution_count": null,
      "metadata": {
        "id": "kebTgQRJL4l3",
        "colab": {
          "base_uri": "https://localhost:8080/"
        },
        "outputId": "a34c817c-a75f-48d5-9230-f2593f604a4b"
      },
      "outputs": [
        {
          "output_type": "stream",
          "name": "stdout",
          "text": [
            "enter a number :76\n",
            "enter a number :87\n",
            "163\n"
          ]
        }
      ],
      "source": [
        "num1 = int(input(\"enter a number :\"))\n",
        "num2 = int(input(\"enter a number :\"))\n",
        "sum = num1 +num2\n",
        "print(sum)"
      ]
    },
    {
      "cell_type": "code",
      "source": [
        "num1 = float(input(\"enter a number :\"))\n",
        "squareroot = (num1)**(1/2)\n",
        "\n",
        "print(\"the squareroot of given number is \", squareroot)"
      ],
      "metadata": {
        "colab": {
          "base_uri": "https://localhost:8080/"
        },
        "id": "SkC5dubPGGuq",
        "outputId": "72d893f2-8dd5-4b5c-c1f2-c478bc421d8e"
      },
      "execution_count": null,
      "outputs": [
        {
          "output_type": "stream",
          "name": "stdout",
          "text": [
            "enter a number :49\n",
            "the squareroot of given number is  7.0\n"
          ]
        }
      ]
    },
    {
      "cell_type": "code",
      "source": [
        "import math\n",
        "num1 = int(input(\"enter a number :\"))\n",
        "sr = math.sqrt(num1)\n",
        "print(\"the squareroot of the given number is :\", sr)"
      ],
      "metadata": {
        "colab": {
          "base_uri": "https://localhost:8080/"
        },
        "id": "rIUi1_NeFy-n",
        "outputId": "a22fa464-1564-495e-df84-44806a7663b5"
      },
      "execution_count": null,
      "outputs": [
        {
          "output_type": "stream",
          "name": "stdout",
          "text": [
            "enter a number :100\n",
            "the squareroot of the given number is : 10.0\n"
          ]
        }
      ]
    },
    {
      "cell_type": "code",
      "source": [
        "#find the area of a triangle\n",
        "height = float(input(\"enter the height :\"))\n",
        "base = float(input(\"enter the base :\"))\n",
        "area = (1/2)*base* height\n",
        "print(\"the area of the triangle is :\", area )"
      ],
      "metadata": {
        "colab": {
          "base_uri": "https://localhost:8080/"
        },
        "id": "TTxTyEo4Iy40",
        "outputId": "cfde4c8e-f191-4735-d75d-d424bb0230e0"
      },
      "execution_count": null,
      "outputs": [
        {
          "output_type": "stream",
          "name": "stdout",
          "text": [
            "enter the height :32\n",
            "enter the base :16\n",
            "the area of the triangle is : 256.0\n"
          ]
        }
      ]
    },
    {
      "cell_type": "code",
      "source": [
        "#quadratic equation ax**2 + bx + c = 0\n",
        "# a,b,c are real numbers\n",
        "#a!=0\n",
        "\n",
        "import cmath\n",
        "a= int(input(\"enter a number (a!=0):\"))\n",
        "b = int(input(\"enter a number:\"))\n",
        "c = int(input(\"enter a number:\"))\n",
        "# formula for discriminant\n",
        "d = (b**2)-(4*a*c)\n",
        "root1 = (-b - cmath.sqrt(d))/(2*a)\n",
        "root2 = (-b + cmath.sqrt(d))/(2*a)\n",
        "print(\"the roots are :\",root1 , root2)"
      ],
      "metadata": {
        "colab": {
          "base_uri": "https://localhost:8080/"
        },
        "id": "tUL-DFGXIy6Y",
        "outputId": "81ea517b-f705-4308-9530-bf3cf78211e4"
      },
      "execution_count": null,
      "outputs": [
        {
          "output_type": "stream",
          "name": "stdout",
          "text": [
            "enter a number (a!=0):2\n",
            "enter a number:4\n",
            "enter a number:9\n",
            "the roots are : (-1-1.8708286933869707j) (-1+1.8708286933869707j)\n"
          ]
        }
      ]
    },
    {
      "cell_type": "code",
      "source": [
        "# program to swap two variables\n",
        "a = 3\n",
        "b= 4\n",
        "temp = a\n",
        "a= b\n",
        "b = temp\n",
        "print(\"the value of a :\",a)\n",
        "print(\"the value of b :\",b)"
      ],
      "metadata": {
        "colab": {
          "base_uri": "https://localhost:8080/"
        },
        "id": "SoA6bu39Iy9w",
        "outputId": "11ae34db-0002-421d-948a-cc337fa066be"
      },
      "execution_count": null,
      "outputs": [
        {
          "output_type": "stream",
          "name": "stdout",
          "text": [
            "the value of a : 4\n",
            "the value of b : 3\n"
          ]
        }
      ]
    },
    {
      "cell_type": "code",
      "source": [
        "# program to swap two variables without using third variable\n",
        "a = 13\n",
        "b = 14\n",
        "a,b = b,a\n",
        "print(a)\n",
        "print (b)"
      ],
      "metadata": {
        "colab": {
          "base_uri": "https://localhost:8080/"
        },
        "id": "wBSzVn46NUqu",
        "outputId": "03621594-3822-464a-fe55-6a973729c1ca"
      },
      "execution_count": null,
      "outputs": [
        {
          "output_type": "stream",
          "name": "stdout",
          "text": [
            "14\n",
            "13\n"
          ]
        }
      ]
    },
    {
      "cell_type": "code",
      "source": [
        "# program to generate a random  number\n",
        "import random\n",
        "num = random.randint(0,10)\n",
        "print(num)"
      ],
      "metadata": {
        "colab": {
          "base_uri": "https://localhost:8080/"
        },
        "id": "vwT-wxklNwlN",
        "outputId": "ecc1c707-3d8d-4d33-9908-420289a48279"
      },
      "execution_count": null,
      "outputs": [
        {
          "output_type": "stream",
          "name": "stdout",
          "text": [
            "0\n"
          ]
        }
      ]
    },
    {
      "cell_type": "code",
      "source": [
        "#program to convert kilometers to miles\n",
        "#1km = 0.621371miles\n",
        "km = float(input(\"enter the value in km :\"))\n",
        "miles = (0.621371)*km\n",
        "print(km,\"kms in miles will be \",miles ,\"miles\")"
      ],
      "metadata": {
        "colab": {
          "base_uri": "https://localhost:8080/"
        },
        "id": "FuMkZOL7OeOo",
        "outputId": "635db15c-0e23-4ab4-9353-6a4588cc09e3"
      },
      "execution_count": null,
      "outputs": [
        {
          "output_type": "stream",
          "name": "stdout",
          "text": [
            "enter the value in km :78\n",
            "78.0 kms in miles will be  48.466938 miles\n"
          ]
        }
      ]
    },
    {
      "cell_type": "code",
      "source": [
        "# convert celsius to  farenheit\n",
        "#formula=(c*9/5) +32\n",
        "celsius = int(input(\"enter temp in celsius:\"))\n",
        "farenheit = (celsius *9/5)+32\n",
        "print(\"the temp in farenheit is:\",farenheit)"
      ],
      "metadata": {
        "colab": {
          "base_uri": "https://localhost:8080/"
        },
        "id": "qTMxuTnUPS4K",
        "outputId": "03178d5e-eec3-487d-e6e6-38ed684b9d06"
      },
      "execution_count": null,
      "outputs": [
        {
          "output_type": "stream",
          "name": "stdout",
          "text": [
            "enter temp in celsius:40\n",
            "the temp in farenheit is: 104.0\n"
          ]
        }
      ]
    },
    {
      "cell_type": "code",
      "source": [
        "#check if a number is positive , negative or 0\n",
        "num = int(input(\"enter the number:\"))\n",
        "if num>0:\n",
        "  print(\"the number is positive \")\n",
        "elif num<0:\n",
        "  print(\"the number is negative\")\n",
        "else:\n",
        "  print(\"the number is zero\")\n",
        "\n",
        "\n"
      ],
      "metadata": {
        "colab": {
          "base_uri": "https://localhost:8080/"
        },
        "id": "zCe0-yIcQKsU",
        "outputId": "bf2ced5e-75db-45e6-df2e-e45566631b64"
      },
      "execution_count": null,
      "outputs": [
        {
          "output_type": "stream",
          "name": "stdout",
          "text": [
            "enter the number:0\n",
            "the number is zero\n"
          ]
        }
      ]
    },
    {
      "cell_type": "code",
      "source": [
        "#check if a number is odd or even\n",
        "num = int(input(\"enter the number:\"))\n",
        "if num%2==0:\n",
        "  print(\"the given number is even\")\n",
        "else:\n",
        "  print(\"the given number is odd\")"
      ],
      "metadata": {
        "colab": {
          "base_uri": "https://localhost:8080/"
        },
        "id": "F0ZhPyS8U41f",
        "outputId": "72a59254-0c86-4e0e-9909-442ba3102800"
      },
      "execution_count": null,
      "outputs": [
        {
          "output_type": "stream",
          "name": "stdout",
          "text": [
            "enter the number:79\n",
            "the given number is odd\n"
          ]
        }
      ]
    },
    {
      "cell_type": "code",
      "source": [
        "#program to check if a year is leap or not\n",
        "year = int(input(\"enter the year:\"))\n",
        "if (year%400==0) and (year%100==0):\n",
        "  print(year,\"year is a leap year\")\n",
        "elif (year%4==0) and (year%100 !=0):\n",
        "  print(year,\"year is a leap year\")\n",
        "else:\n",
        "  print(\"not a leap year\")"
      ],
      "metadata": {
        "colab": {
          "base_uri": "https://localhost:8080/"
        },
        "id": "glAZe5QDVVUK",
        "outputId": "d6f999db-289e-4e65-dfd0-b050109f0a91"
      },
      "execution_count": null,
      "outputs": [
        {
          "output_type": "stream",
          "name": "stdout",
          "text": [
            "enter the year:1997\n",
            "not a leap year\n"
          ]
        }
      ]
    },
    {
      "cell_type": "code",
      "source": [
        "#find largest among 3 numbers\n",
        "num1 = int(input(\"enter the first number\"))\n",
        "num2 = int(input(\"enter the second number\"))\n",
        "num3 = int(input(\"enter the third number\"))\n",
        "if num1>num2 and num1 >num3:\n",
        "  print(num1 ,\"is the largest number.\")\n",
        "elif num2>num3 and num2>num1:\n",
        "  print(num2,\"is the largest number.\")\n",
        "else:\n",
        "  print(num3,\"is the largest number\")"
      ],
      "metadata": {
        "colab": {
          "base_uri": "https://localhost:8080/"
        },
        "id": "sN5BBouVjRkd",
        "outputId": "f5504ff4-b88a-459f-d1d8-06338d290081"
      },
      "execution_count": null,
      "outputs": [
        {
          "output_type": "stream",
          "name": "stdout",
          "text": [
            "enter the first number12\n",
            "enter the second number18\n",
            "enter the third number98\n",
            "98 is the largest number\n"
          ]
        }
      ]
    },
    {
      "cell_type": "code",
      "source": [
        "#to check prime number\n",
        "num = int(input(\"enter the number\"))\n",
        "if num ==1:\n",
        "  print(num,\"is not a prime number\")\n",
        "if num >1:\n",
        "  for i in range(2,num):\n",
        "    if num%i==0 :\n",
        "      print(num,\" is not a prime number\")\n",
        "      break\n",
        "else:\n",
        "    print(num,\" is a prime number\")"
      ],
      "metadata": {
        "colab": {
          "base_uri": "https://localhost:8080/"
        },
        "id": "ONmCqzKBjRnQ",
        "outputId": "bc48a975-3694-4edb-8e8f-ed50e17b7f0c"
      },
      "execution_count": null,
      "outputs": [
        {
          "name": "stdout",
          "output_type": "stream",
          "text": [
            "enter the number11\n"
          ]
        }
      ]
    },
    {
      "cell_type": "code",
      "source": [
        "num = int(input(\"Enter the number: \"))\n",
        "\n",
        "if num <= 1:\n",
        "    print(num, \"is not a prime number\")\n",
        "else:\n",
        "    for i in range(2, num):\n",
        "        if num % i == 0:\n",
        "            print(num, \"is not a prime number\")\n",
        "            break\n",
        "    else:\n",
        "        print(num, \"is a prime number\")\n"
      ],
      "metadata": {
        "colab": {
          "base_uri": "https://localhost:8080/"
        },
        "id": "PGU6MB9T4k2m",
        "outputId": "c69b3d77-2be0-4b3f-e647-29b775f3d5a3"
      },
      "execution_count": null,
      "outputs": [
        {
          "output_type": "stream",
          "name": "stdout",
          "text": [
            "Enter the number: 9\n",
            "9 is not a prime number\n"
          ]
        }
      ]
    },
    {
      "cell_type": "code",
      "source": [
        "#print all prime numbers in an interval\n"
      ],
      "metadata": {
        "id": "2TSO4UN3jRq1"
      },
      "execution_count": null,
      "outputs": []
    },
    {
      "cell_type": "code",
      "source": [
        "import numpy as np\n",
        "\n",
        "# Define vectors a and b with magnitudes\n",
        "a = np.random.rand(3) * 5  # Random unit vector scaled by magnitude 5\n",
        "b = np.random.rand(3) * 13  # Random unit vector scaled by magnitude 13\n",
        "\n",
        "# Calculate the cross product\n",
        "cross_product = np.cross(a, b)\n",
        "\n",
        "# Calculate the magnitude of the cross product (already given)\n",
        "magnitude_cross_product = 25\n",
        "\n",
        "# Check for potential sign ambiguity due to handedness (clockwise vs. counter-clockwise)\n",
        "# Here, we can assume either positive or negative value for a.b and verify later\n",
        "a_dot_b = np.dot(a, b)\n",
        "\n",
        "# Verify the sign based on the magnitude of the cross product\n",
        "if np.linalg.norm(cross_product) == magnitude_cross_product:\n",
        "    result = a_dot_b\n",
        "else:\n",
        "    result = -a_dot_b\n",
        "\n",
        "# Print the possible values for a.b (considering both signs)\n",
        "print(\"Possible values for a.b:\", result, -result)"
      ],
      "metadata": {
        "colab": {
          "base_uri": "https://localhost:8080/"
        },
        "id": "C3n002H9mr5x",
        "outputId": "6ad1d198-f571-4c17-9b73-c0e32f277300"
      },
      "execution_count": null,
      "outputs": [
        {
          "output_type": "stream",
          "name": "stdout",
          "text": [
            "Possible values for a.b: -79.57572187509115 79.57572187509115\n"
          ]
        }
      ]
    },
    {
      "cell_type": "code",
      "source": [
        "def find_data(arr, target):\n",
        "    if len(arr) == 0:\n",
        "        return False\n",
        "    elif arr[0] == target:\n",
        "        return True\n",
        "    else:\n",
        "        return find_data(arr[1:], target)\n",
        "\n",
        "arr = [1, 2, 3, 4, 5]\n",
        "target = 3\n",
        "print(find_data(arr, target))\n",
        "\n"
      ],
      "metadata": {
        "colab": {
          "base_uri": "https://localhost:8080/"
        },
        "id": "4q_IMR-R_LVw",
        "outputId": "b870a6e2-efb1-452e-dd7b-0381e59e232a"
      },
      "execution_count": null,
      "outputs": [
        {
          "output_type": "stream",
          "name": "stdout",
          "text": [
            "True\n"
          ]
        }
      ]
    },
    {
      "cell_type": "code",
      "source": [
        "def subsequences(arr, index, ans):\n",
        "    if index == len(arr):\n",
        "        print(ans)\n",
        "        return\n",
        "    subsequences(arr, index + 1, ans)\n",
        "    subsequences(arr, index + 1, ans + str(arr[index]))\n",
        "\n",
        "subsequences([1, 2, 3], 0, \"\")"
      ],
      "metadata": {
        "colab": {
          "base_uri": "https://localhost:8080/"
        },
        "id": "1r1vjmKxA0Kt",
        "outputId": "e0195632-88b9-4ca6-b8a3-43962677592f"
      },
      "execution_count": null,
      "outputs": [
        {
          "output_type": "stream",
          "name": "stdout",
          "text": [
            "\n",
            "3\n",
            "2\n",
            "23\n",
            "1\n",
            "13\n",
            "12\n",
            "123\n"
          ]
        }
      ]
    },
    {
      "cell_type": "code",
      "source": [
        "import re\n",
        "\n",
        "match = re.search(r'\\bcat\\b', 'The cat sat on the mat.')\n",
        "if match:\n",
        "    print(match.group())"
      ],
      "metadata": {
        "colab": {
          "base_uri": "https://localhost:8080/"
        },
        "id": "N3eRK_y7CKl_",
        "outputId": "d3dc964b-36cf-4ec9-bd6c-ecbddb62a6c9"
      },
      "execution_count": null,
      "outputs": [
        {
          "output_type": "stream",
          "name": "stdout",
          "text": [
            "cat\n"
          ]
        }
      ]
    },
    {
      "cell_type": "code",
      "source": [
        "string = \"hello world\"\n",
        "new_string = \"\"\n",
        "\n",
        "for i in range(len(string)):\n",
        "    if i % 2 == 0:\n",
        "        new_string += string[i]\n",
        "\n",
        "print(new_string)"
      ],
      "metadata": {
        "colab": {
          "base_uri": "https://localhost:8080/"
        },
        "id": "GiNCwELVCeEO",
        "outputId": "7b5d77c5-6adc-4b33-e789-e85da8fefb1b"
      },
      "execution_count": null,
      "outputs": [
        {
          "output_type": "stream",
          "name": "stdout",
          "text": [
            "hlowrd\n"
          ]
        }
      ]
    },
    {
      "cell_type": "code",
      "source": [
        "arr = [1, 2, 3, 4, 5]\n",
        "i = 3\n",
        "if arr[i] < 5:\n",
        "    print(\"Less than 5\")\n",
        "else:\n",
        "    print(\"Greater than or equal to 5\")"
      ],
      "metadata": {
        "colab": {
          "base_uri": "https://localhost:8080/"
        },
        "id": "5MXWFUenEder",
        "outputId": "4baafe37-bbfb-4941-c71b-da88121c2ddd"
      },
      "execution_count": null,
      "outputs": [
        {
          "output_type": "stream",
          "name": "stdout",
          "text": [
            "Less than 5\n"
          ]
        }
      ]
    },
    {
      "cell_type": "code",
      "source": [
        "string = \"Hello world\"\n",
        "if \"hello\" in string.lower():\n",
        "    print(\"Substring found\")\n",
        "else:\n",
        "    print(\"Substring not found\")"
      ],
      "metadata": {
        "colab": {
          "base_uri": "https://localhost:8080/"
        },
        "id": "ok5p-Rn3EmKI",
        "outputId": "951cfb14-2d53-4c1e-fd2b-601177bcbbbf"
      },
      "execution_count": null,
      "outputs": [
        {
          "output_type": "stream",
          "name": "stdout",
          "text": [
            "Substring found\n"
          ]
        }
      ]
    },
    {
      "cell_type": "code",
      "source": [
        "string = \"hello world\"\n",
        "new_string = string.replace(\"o\", \"0\")\n",
        "print(new_string)"
      ],
      "metadata": {
        "colab": {
          "base_uri": "https://localhost:8080/"
        },
        "id": "0ZyqN-2QFBrz",
        "outputId": "64788f27-d0c7-4859-e1d8-6d4e1ad5c725"
      },
      "execution_count": null,
      "outputs": [
        {
          "output_type": "stream",
          "name": "stdout",
          "text": [
            "hell0 w0rld\n"
          ]
        }
      ]
    },
    {
      "cell_type": "code",
      "source": [
        "def reverse_array(arr):\n",
        "    if len(arr) == 0:\n",
        "        return []\n",
        "    else:\n",
        "        return [arr[-1]] + reverse_array(arr[:-1])\n",
        "\n",
        "print(reverse_array([1, 2, 3, 4, 5]))"
      ],
      "metadata": {
        "colab": {
          "base_uri": "https://localhost:8080/"
        },
        "id": "Vr4Q8jfBF2T6",
        "outputId": "cd581207-ae37-4965-a9a1-f6abf58158bf"
      },
      "execution_count": null,
      "outputs": [
        {
          "output_type": "stream",
          "name": "stdout",
          "text": [
            "[5, 4, 3, 2, 1]\n"
          ]
        }
      ]
    },
    {
      "cell_type": "code",
      "source": [
        "def find_data(arr, target, i=0):\n",
        "    if i == len(arr):\n",
        "        return False\n",
        "    elif arr[i] == target:\n",
        "        return True\n",
        "    else:\n",
        "        return find_data(arr, target, i+1)\n",
        "\n",
        "arr = [1, 2, 3, 4, 5]\n",
        "target = 3\n",
        "print(find_data(arr, target))"
      ],
      "metadata": {
        "colab": {
          "base_uri": "https://localhost:8080/"
        },
        "id": "8bShroM1F7_9",
        "outputId": "d0dfa16e-41e2-40a5-ce94-5541d71461ca"
      },
      "execution_count": null,
      "outputs": [
        {
          "output_type": "stream",
          "name": "stdout",
          "text": [
            "True\n"
          ]
        }
      ]
    },
    {
      "cell_type": "code",
      "source": [
        "def find_data(arr, target):\n",
        "    if len(arr) == 0:\n",
        "        return False\n",
        "    elif arr[-1] == target:\n",
        "        return True\n",
        "    else:\n",
        "        return find_data(arr[:-1], target)\n",
        "\n",
        "arr = [1, 2, 3, 4, 5]\n",
        "target = 3\n",
        "print(find_data(arr, target))"
      ],
      "metadata": {
        "colab": {
          "base_uri": "https://localhost:8080/"
        },
        "id": "BqFlmts9HaBB",
        "outputId": "9cc2b67a-06db-43b2-dd7d-1f2726e5a1ca"
      },
      "execution_count": null,
      "outputs": [
        {
          "output_type": "stream",
          "name": "stdout",
          "text": [
            "True\n"
          ]
        }
      ]
    },
    {
      "cell_type": "code",
      "source": [
        "def power(base, exponent):\n",
        "    result = 1\n",
        "    for i in range(exponent):\n",
        "        result *= base\n",
        "    return result\n",
        "\n",
        "print(power(2, 4))"
      ],
      "metadata": {
        "colab": {
          "base_uri": "https://localhost:8080/"
        },
        "id": "u-E1kizCKELk",
        "outputId": "489bf3eb-88af-4e52-b31b-946ce27347b3"
      },
      "execution_count": null,
      "outputs": [
        {
          "output_type": "stream",
          "name": "stdout",
          "text": [
            "16\n"
          ]
        }
      ]
    },
    {
      "cell_type": "code",
      "source": [
        "import re\n",
        "\n",
        "text = \"The quick brown fox jumps over the lazy dog.\"\n",
        "result = re.findall(\"fox|dog\", text)\n",
        "print(result)"
      ],
      "metadata": {
        "colab": {
          "base_uri": "https://localhost:8080/"
        },
        "id": "pVezX1YdKeUw",
        "outputId": "348271fb-1a86-483e-af50-9e647131a340"
      },
      "execution_count": null,
      "outputs": [
        {
          "output_type": "stream",
          "name": "stdout",
          "text": [
            "['fox', 'dog']\n"
          ]
        }
      ]
    },
    {
      "cell_type": "code",
      "source": [
        "string = \"Hello, world\"\n",
        "index = string.find(\",\")\n",
        "\n",
        "if index != -1:\n",
        "    new_string = string[:index] + \"!\"\n",
        "    print(new_string)\n",
        "else:\n",
        "    print(string)"
      ],
      "metadata": {
        "colab": {
          "base_uri": "https://localhost:8080/"
        },
        "id": "AEafhI0jLhLR",
        "outputId": "157abd6a-3583-47f4-c063-d15f9a033264"
      },
      "execution_count": null,
      "outputs": [
        {
          "output_type": "stream",
          "name": "stdout",
          "text": [
            "Hello!\n"
          ]
        }
      ]
    },
    {
      "cell_type": "code",
      "source": [
        "\n",
        "re.sub(r'\\s+', '-', 'Hello World')"
      ],
      "metadata": {
        "colab": {
          "base_uri": "https://localhost:8080/",
          "height": 36
        },
        "id": "FRLv58UrLg3j",
        "outputId": "b7f7f4a1-1ccb-4d3b-b192-b81e7877a7eb"
      },
      "execution_count": null,
      "outputs": [
        {
          "output_type": "execute_result",
          "data": {
            "text/plain": [
              "'Hello-World'"
            ],
            "application/vnd.google.colaboratory.intrinsic+json": {
              "type": "string"
            }
          },
          "metadata": {},
          "execution_count": 13
        }
      ]
    },
    {
      "cell_type": "code",
      "source": [
        "import datetime\n",
        "\n",
        "today = datetime.date.today()\n",
        "print(today.year)"
      ],
      "metadata": {
        "colab": {
          "base_uri": "https://localhost:8080/"
        },
        "id": "C9Qc6qAtLze8",
        "outputId": "34364d64-c7c0-4694-ab7d-166dfd361ffe"
      },
      "execution_count": null,
      "outputs": [
        {
          "output_type": "stream",
          "name": "stdout",
          "text": [
            "2024\n"
          ]
        }
      ]
    },
    {
      "cell_type": "code",
      "source": [
        "import pandas as pd\n",
        "\n",
        "df = pd.DataFrame({'A': [1, 2, 3, 4], 'B': [5, 6, 7, 8]})\n",
        "print(df.mean())"
      ],
      "metadata": {
        "colab": {
          "base_uri": "https://localhost:8080/"
        },
        "id": "AD7w-Xl7V7-j",
        "outputId": "2bbe7615-e75b-4921-a580-95261dee4b01"
      },
      "execution_count": null,
      "outputs": [
        {
          "output_type": "stream",
          "name": "stdout",
          "text": [
            "A    2.5\n",
            "B    6.5\n",
            "dtype: float64\n"
          ]
        }
      ]
    },
    {
      "cell_type": "code",
      "source": [
        "import re\n",
        "\n",
        "text = \"The quick brown fox jumps over the lazy dog.\"\n",
        "result = re.findall(\"fox|dog\", text)\n",
        "print(result)"
      ],
      "metadata": {
        "colab": {
          "base_uri": "https://localhost:8080/"
        },
        "id": "nikvOe7rn8Ts",
        "outputId": "48d9ca79-855c-4df4-999d-53279190af84"
      },
      "execution_count": null,
      "outputs": [
        {
          "output_type": "stream",
          "name": "stdout",
          "text": [
            "['fox', 'dog']\n"
          ]
        }
      ]
    },
    {
      "cell_type": "code",
      "source": [
        "import numpy as np\n",
        "arr = np.array([[1, 2, 3], [4, 5, 6], [7, 8, 9]])\n",
        "new_arr = arr[0:2, 1:]\n",
        "print(new_arr)"
      ],
      "metadata": {
        "colab": {
          "base_uri": "https://localhost:8080/"
        },
        "id": "hErRHDWioD-s",
        "outputId": "1928a5d0-567f-4782-ae13-f7898590e159"
      },
      "execution_count": null,
      "outputs": [
        {
          "output_type": "stream",
          "name": "stdout",
          "text": [
            "[[2 3]\n",
            " [5 6]]\n"
          ]
        }
      ]
    },
    {
      "cell_type": "code",
      "source": [
        "re.search(r'\\bcat\\b', 'The cat sat on the mat.')"
      ],
      "metadata": {
        "colab": {
          "base_uri": "https://localhost:8080/"
        },
        "id": "sZsTMZkcogqX",
        "outputId": "bb1c57ca-6bbd-4c83-a08c-510e04b5d364"
      },
      "execution_count": null,
      "outputs": [
        {
          "output_type": "execute_result",
          "data": {
            "text/plain": [
              "<re.Match object; span=(4, 7), match='cat'>"
            ]
          },
          "metadata": {},
          "execution_count": 5
        }
      ]
    },
    {
      "cell_type": "code",
      "source": [
        "re.findall(r'(?<=\\d)[a-z]+(?=\\d)', '1a2b3c4d5e6f7g8h9i0j')"
      ],
      "metadata": {
        "colab": {
          "base_uri": "https://localhost:8080/"
        },
        "id": "kn1LS0vHpJ94",
        "outputId": "b316fb65-e040-4f56-8f3a-60644429aa2d"
      },
      "execution_count": null,
      "outputs": [
        {
          "output_type": "execute_result",
          "data": {
            "text/plain": [
              "['a', 'b', 'c', 'd', 'e', 'f', 'g', 'h', 'i']"
            ]
          },
          "metadata": {},
          "execution_count": 7
        }
      ]
    },
    {
      "cell_type": "code",
      "source": [
        "import re\n",
        "\n",
        "text = \"The quick brown fox jumps over the lazy dog.\"\n",
        "result = re.search(\"fox\", text)\n",
        "print(result.group())"
      ],
      "metadata": {
        "colab": {
          "base_uri": "https://localhost:8080/"
        },
        "id": "JPx8dFEapnuw",
        "outputId": "218359b2-5481-4973-ccbb-bd9306d2d845"
      },
      "execution_count": null,
      "outputs": [
        {
          "output_type": "stream",
          "name": "stdout",
          "text": [
            "fox\n"
          ]
        }
      ]
    },
    {
      "cell_type": "code",
      "source": [
        "def find_max(arr):\n",
        "    if len(arr) == 1:\n",
        "        return arr[0]\n",
        "    else:\n",
        "        return max(arr[0], find_max(arr[1:]))\n",
        "\n",
        "print(find_max([1, 5, 3, 8, 2]))"
      ],
      "metadata": {
        "colab": {
          "base_uri": "https://localhost:8080/"
        },
        "id": "9xXn01Ndq2Rm",
        "outputId": "aa3cdf1f-3ae6-473e-feba-08f213550f3f"
      },
      "execution_count": null,
      "outputs": [
        {
          "output_type": "stream",
          "name": "stdout",
          "text": [
            "8\n"
          ]
        }
      ]
    },
    {
      "cell_type": "code",
      "source": [
        "arr = [1, 2, 3, 4, 5]\n",
        "new_arr = []\n",
        "\n",
        "for i in range(len(arr)):\n",
        "    if i % 2 == 0:\n",
        "        new_arr.append(arr[i])\n",
        "\n",
        "print(new_arr)"
      ],
      "metadata": {
        "colab": {
          "base_uri": "https://localhost:8080/"
        },
        "id": "KHOTMhLBsX0s",
        "outputId": "3bc0580f-9669-4730-feb4-a68d408382d2"
      },
      "execution_count": null,
      "outputs": [
        {
          "output_type": "stream",
          "name": "stdout",
          "text": [
            "[1, 3, 5]\n"
          ]
        }
      ]
    },
    {
      "cell_type": "code",
      "source": [
        "import numpy as np\n",
        "\n",
        "arr = np.array([[1, 2, 3], [4, 5, 6], [7, 8, 9]])\n",
        "new_arr = arr[::2, ::-1]\n",
        "print(new_arr)"
      ],
      "metadata": {
        "colab": {
          "base_uri": "https://localhost:8080/"
        },
        "id": "76fL7RmUsfn_",
        "outputId": "35fdbfa8-4771-4723-e2ec-4dc24e943c11"
      },
      "execution_count": null,
      "outputs": [
        {
          "output_type": "stream",
          "name": "stdout",
          "text": [
            "[[3 2 1]\n",
            " [9 8 7]]\n"
          ]
        }
      ]
    },
    {
      "cell_type": "code",
      "source": [
        "re.findall(r'\\d+', 'Hello 123 World 456')"
      ],
      "metadata": {
        "colab": {
          "base_uri": "https://localhost:8080/"
        },
        "id": "Sh3myg9GslIC",
        "outputId": "5189fe42-4322-4d91-8db8-1751ef5d0b7e"
      },
      "execution_count": null,
      "outputs": [
        {
          "output_type": "execute_result",
          "data": {
            "text/plain": [
              "['123', '456']"
            ]
          },
          "metadata": {},
          "execution_count": 13
        }
      ]
    },
    {
      "cell_type": "code",
      "source": [
        "def display_reversed(arr, index):\n",
        "    if index >= 0:\n",
        "        print(arr[index], end=\" \")\n",
        "        display_reversed(arr, index - 1)\n",
        "\n",
        "arr = [1, 2, 3, 4, 5]\n",
        "display_reversed(arr, len(arr) - 1)"
      ],
      "metadata": {
        "colab": {
          "base_uri": "https://localhost:8080/"
        },
        "id": "NALO2-AjuL55",
        "outputId": "9af546b7-9912-4e71-f690-2d72ab31927a"
      },
      "execution_count": null,
      "outputs": [
        {
          "output_type": "stream",
          "name": "stdout",
          "text": [
            "5 4 3 2 1 "
          ]
        }
      ]
    },
    {
      "cell_type": "code",
      "source": [
        "def reverse_array(arr):\n",
        "    if len(arr) == 0:\n",
        "        return []\n",
        "    else:\n",
        "        return [arr[-1]] + reverse_array(arr[:-1])\n",
        "\n",
        "print(reverse_array([1, 2, 3, 4, 5]))"
      ],
      "metadata": {
        "colab": {
          "base_uri": "https://localhost:8080/"
        },
        "id": "nDQJaW4jutEL",
        "outputId": "98fb3350-6e45-4edc-f8d6-5ffc2cd0e8c3"
      },
      "execution_count": null,
      "outputs": [
        {
          "output_type": "stream",
          "name": "stdout",
          "text": [
            "[5, 4, 3, 2, 1]\n"
          ]
        }
      ]
    },
    {
      "cell_type": "code",
      "source": [
        "#What is the output of the following Python code?\n",
        "\n",
        "def find_data(arr, target, start, end):\n",
        "    if start > end:\n",
        "        return False\n",
        "    else:\n",
        "        mid = (start + end) // 2\n",
        "        if arr[mid] == target:\n",
        "            return True\n",
        "        elif arr[mid] < target:\n",
        "            return find_data(arr, target, mid + 1, end)\n",
        "        else:\n",
        "            return find_data(arr, target, start, mid - 1)\n",
        "\n",
        "arr = [1, 2, 3, 4, 5]\n",
        "target = 3\n",
        "print(find_data(arr, target, 0, len(arr) - 1))\n"
      ],
      "metadata": {
        "colab": {
          "base_uri": "https://localhost:8080/"
        },
        "id": "68VZ6phuu4XO",
        "outputId": "6b7fa2d4-cda2-4463-f537-8b15075db662"
      },
      "execution_count": null,
      "outputs": [
        {
          "output_type": "stream",
          "name": "stdout",
          "text": [
            "True\n"
          ]
        }
      ]
    },
    {
      "cell_type": "code",
      "source": [
        "arr = array.array('i', [1, 2, 3])\n",
        "print(arr[0])"
      ],
      "metadata": {
        "id": "JCFatvCqvq_J",
        "outputId": "c4a43668-cd27-4122-c6a1-1ea34d2a34e0",
        "colab": {
          "base_uri": "https://localhost:8080/",
          "height": 164
        }
      },
      "execution_count": null,
      "outputs": [
        {
          "output_type": "error",
          "ename": "NameError",
          "evalue": "name 'array' is not defined",
          "traceback": [
            "\u001b[0;31m---------------------------------------------------------------------------\u001b[0m",
            "\u001b[0;31mNameError\u001b[0m                                 Traceback (most recent call last)",
            "\u001b[0;32m<ipython-input-17-bc09c15afb44>\u001b[0m in \u001b[0;36m<cell line: 1>\u001b[0;34m()\u001b[0m\n\u001b[0;32m----> 1\u001b[0;31m \u001b[0marr\u001b[0m \u001b[0;34m=\u001b[0m \u001b[0marray\u001b[0m\u001b[0;34m.\u001b[0m\u001b[0marray\u001b[0m\u001b[0;34m(\u001b[0m\u001b[0;34m'i'\u001b[0m\u001b[0;34m,\u001b[0m \u001b[0;34m[\u001b[0m\u001b[0;36m1\u001b[0m\u001b[0;34m,\u001b[0m \u001b[0;36m2\u001b[0m\u001b[0;34m,\u001b[0m \u001b[0;36m3\u001b[0m\u001b[0;34m]\u001b[0m\u001b[0;34m)\u001b[0m\u001b[0;34m\u001b[0m\u001b[0;34m\u001b[0m\u001b[0m\n\u001b[0m\u001b[1;32m      2\u001b[0m \u001b[0mprint\u001b[0m\u001b[0;34m(\u001b[0m\u001b[0marr\u001b[0m\u001b[0;34m[\u001b[0m\u001b[0;36m0\u001b[0m\u001b[0;34m]\u001b[0m\u001b[0;34m)\u001b[0m\u001b[0;34m\u001b[0m\u001b[0;34m\u001b[0m\u001b[0m\n",
            "\u001b[0;31mNameError\u001b[0m: name 'array' is not defined"
          ]
        }
      ]
    },
    {
      "cell_type": "code",
      "source": [
        "str = input(\"enter a string:\")\n",
        "print(\"string is \", str)\n",
        "count={}\n",
        "for x in str:\n",
        "  if x in count.keys():\n",
        "    count[x]+=1\n",
        "  else:\n",
        "    count[x]=1\n",
        "\n",
        "\n",
        "print(count)"
      ],
      "metadata": {
        "colab": {
          "base_uri": "https://localhost:8080/"
        },
        "id": "9-8aFsBtNlvm",
        "outputId": "68c5fa62-7dec-4e76-f579-4b275d776cad"
      },
      "execution_count": null,
      "outputs": [
        {
          "output_type": "stream",
          "name": "stdout",
          "text": [
            "enter a string:google.com\n",
            "string is  google.com\n",
            "{'g': 2, 'o': 3, 'l': 1, 'e': 1, '.': 1, 'c': 1, 'm': 1}\n"
          ]
        }
      ]
    },
    {
      "cell_type": "code",
      "source": [
        "def cube(x):\n",
        "  result=x**3\n",
        "  return result\n",
        "cube(3)"
      ],
      "metadata": {
        "colab": {
          "base_uri": "https://localhost:8080/"
        },
        "id": "hdBrHOfXWcuK",
        "outputId": "12e997f4-0120-4937-d3ef-c93194c3d452"
      },
      "execution_count": null,
      "outputs": [
        {
          "output_type": "execute_result",
          "data": {
            "text/plain": [
              "27"
            ]
          },
          "metadata": {},
          "execution_count": 19
        }
      ]
    },
    {
      "cell_type": "code",
      "source": [
        "num = (input())\n",
        "sum = 0\n",
        "for i in num:\n",
        "  sum +=int(i)**3\n",
        "if sum == num:\n",
        "    print(num,\"is an armstrong number.\")\n",
        "else:\n",
        "    print(num,\"is not an armstrong number.\")"
      ],
      "metadata": {
        "colab": {
          "base_uri": "https://localhost:8080/"
        },
        "id": "QODaO1ELXQ7l",
        "outputId": "29c75cbe-2792-4f0e-9882-69fe2e5b2d15"
      },
      "execution_count": null,
      "outputs": [
        {
          "output_type": "stream",
          "name": "stdout",
          "text": [
            "153\n",
            "153 is not an armstrong number.\n"
          ]
        }
      ]
    },
    {
      "cell_type": "code",
      "source": [
        "num = (input())\n",
        "sum = 0\n",
        "for i in num:\n",
        "  sum +=int(i)**3\n",
        "  print(sum)"
      ],
      "metadata": {
        "colab": {
          "base_uri": "https://localhost:8080/"
        },
        "id": "JU3vl2IRaI6K",
        "outputId": "3c84d7a1-d6be-4e66-e188-ef6b1cb64f20"
      },
      "execution_count": null,
      "outputs": [
        {
          "output_type": "stream",
          "name": "stdout",
          "text": [
            "153\n",
            "1\n",
            "126\n",
            "153\n"
          ]
        }
      ]
    },
    {
      "cell_type": "code",
      "source": [
        "dict={}\n",
        "dict[1]= 1\n",
        "dict['1'] = 2\n",
        "dict[1]+=1\n",
        "sum=0\n",
        "for k in dict:\n",
        "  sum+=dict[k]\n",
        "  print(sum)"
      ],
      "metadata": {
        "colab": {
          "base_uri": "https://localhost:8080/"
        },
        "id": "LTs3gcSER2tW",
        "outputId": "f534a014-9bc0-46e2-f2e8-3341341b81ad"
      },
      "execution_count": null,
      "outputs": [
        {
          "output_type": "stream",
          "name": "stdout",
          "text": [
            "2\n",
            "4\n"
          ]
        }
      ]
    },
    {
      "cell_type": "code",
      "source": [
        "count=1\n",
        "def dothis():\n",
        "  global count\n",
        "  for i in (1,2,3):\n",
        "    count+=1\n",
        "dothis()\n",
        "print(count)"
      ],
      "metadata": {
        "colab": {
          "base_uri": "https://localhost:8080/"
        },
        "id": "lzrMc7KITfFz",
        "outputId": "b6a21201-fbb2-4540-a3d4-937b6e793dab"
      },
      "execution_count": null,
      "outputs": [
        {
          "output_type": "stream",
          "name": "stdout",
          "text": [
            "4\n"
          ]
        }
      ]
    },
    {
      "cell_type": "code",
      "source": [
        "all([2,4,0,6])"
      ],
      "metadata": {
        "colab": {
          "base_uri": "https://localhost:8080/"
        },
        "id": "QNx0QryUU-fo",
        "outputId": "d908a34d-a7f7-4da4-da05-df18c496db0a"
      },
      "execution_count": null,
      "outputs": [
        {
          "output_type": "execute_result",
          "data": {
            "text/plain": [
              "False"
            ]
          },
          "metadata": {},
          "execution_count": 4
        }
      ]
    },
    {
      "cell_type": "code",
      "source": [
        "pow(x,y,z)"
      ],
      "metadata": {
        "colab": {
          "base_uri": "https://localhost:8080/",
          "height": 146
        },
        "id": "pswwZqS3VFv8",
        "outputId": "579839a1-5c86-4fad-f8a7-4d2c396f6742"
      },
      "execution_count": null,
      "outputs": [
        {
          "output_type": "error",
          "ename": "NameError",
          "evalue": "name 'x' is not defined",
          "traceback": [
            "\u001b[0;31m---------------------------------------------------------------------------\u001b[0m",
            "\u001b[0;31mNameError\u001b[0m                                 Traceback (most recent call last)",
            "\u001b[0;32m<ipython-input-5-92d23606cb89>\u001b[0m in \u001b[0;36m<cell line: 1>\u001b[0;34m()\u001b[0m\n\u001b[0;32m----> 1\u001b[0;31m \u001b[0mpow\u001b[0m\u001b[0;34m(\u001b[0m\u001b[0mx\u001b[0m\u001b[0;34m,\u001b[0m\u001b[0my\u001b[0m\u001b[0;34m,\u001b[0m\u001b[0mz\u001b[0m\u001b[0;34m)\u001b[0m\u001b[0;34m\u001b[0m\u001b[0;34m\u001b[0m\u001b[0m\n\u001b[0m",
            "\u001b[0;31mNameError\u001b[0m: name 'x' is not defined"
          ]
        }
      ]
    },
    {
      "cell_type": "code",
      "source": [
        "__x=3"
      ],
      "metadata": {
        "id": "7g4puiXCWE32"
      },
      "execution_count": null,
      "outputs": []
    },
    {
      "cell_type": "code",
      "source": [
        "_xyz_=3"
      ],
      "metadata": {
        "id": "nmIX92JmWJQW"
      },
      "execution_count": null,
      "outputs": []
    },
    {
      "cell_type": "code",
      "source": [
        "r = lambda q:q*2\n",
        "s=lambda q : q*3\n",
        "x=2\n",
        "x=r(x)\n",
        "x=s(x)\n",
        "x=r(x)\n",
        "print(x)"
      ],
      "metadata": {
        "colab": {
          "base_uri": "https://localhost:8080/"
        },
        "id": "bL0tJXAyWfhK",
        "outputId": "6581f46c-43d2-4739-bff1-b0d28d0bf2f2"
      },
      "execution_count": null,
      "outputs": [
        {
          "output_type": "stream",
          "name": "stdout",
          "text": [
            "24\n"
          ]
        }
      ]
    },
    {
      "cell_type": "code",
      "source": [
        "def addtolist(listcontainer):\n",
        "  listcontainer+=[10]\n",
        "mylistcontainer=[10,20,30,40]\n",
        "addtolist(mylistcontainer)\n",
        "print(len(mylistcontainer))"
      ],
      "metadata": {
        "colab": {
          "base_uri": "https://localhost:8080/"
        },
        "id": "X7W7U6mXXilr",
        "outputId": "9a90bb7a-b1ca-4730-b7b6-efab7d4946a7"
      },
      "execution_count": null,
      "outputs": [
        {
          "output_type": "stream",
          "name": "stdout",
          "text": [
            "5\n"
          ]
        }
      ]
    },
    {
      "cell_type": "code",
      "source": [
        "class acc:\n",
        "    def __init__(self,id):\n",
        "      self.id = id\n",
        "      id=555\n",
        "Acc=acc(111)\n",
        "print(Acc.id)"
      ],
      "metadata": {
        "colab": {
          "base_uri": "https://localhost:8080/"
        },
        "id": "uQBNBTm3YA75",
        "outputId": "5a844ea2-a3ae-47ad-cd17-577acdf0b781"
      },
      "execution_count": null,
      "outputs": [
        {
          "output_type": "stream",
          "name": "stdout",
          "text": [
            "111\n"
          ]
        }
      ]
    },
    {
      "cell_type": "code",
      "source": [
        "class Acc:\n",
        "    def __init__(self, id):\n",
        "        self.id = id\n",
        "        id = 555\n",
        "\n",
        "Acc = Acc(111)\n",
        "print(Acc.id)\n"
      ],
      "metadata": {
        "colab": {
          "base_uri": "https://localhost:8080/"
        },
        "id": "ZY2DWyTZZP5b",
        "outputId": "695930e7-ed4b-445b-e9b5-d406f0b09c81"
      },
      "execution_count": null,
      "outputs": [
        {
          "output_type": "stream",
          "name": "stdout",
          "text": [
            "111\n"
          ]
        }
      ]
    },
    {
      "cell_type": "code",
      "source": [
        "num = int(input())\n",
        "sum=0\n",
        "order=len(str(num))\n",
        "copy_num = num\n",
        "while(num>0):\n",
        "    digit = num%10\n",
        "    sum+=digit**order\n",
        "    num=num//10\n",
        "if sum==copy_num:\n",
        "    print(copy_num,\"is an armstrong number.\")\n",
        "else:\n",
        "    print(copy_num,\"is not an armstrong number.\")"
      ],
      "metadata": {
        "colab": {
          "base_uri": "https://localhost:8080/"
        },
        "id": "E7jDBHBwpztA",
        "outputId": "53ca75b2-96ab-451c-aaed-230885e457fd"
      },
      "execution_count": null,
      "outputs": [
        {
          "output_type": "stream",
          "name": "stdout",
          "text": [
            "0\n",
            "0 is an armstrong number.\n"
          ]
        }
      ]
    },
    {
      "cell_type": "code",
      "source": [
        "def Totalharmonic(k):\n",
        "  if k<2:\n",
        "    return 1\n",
        "  else:\n",
        "    return 1/k+(Totalharmonic(k-1))\n",
        "print(Totalharmonic(14))\n",
        "print(Totalharmonic(7)) #2.5928571428571425"
      ],
      "metadata": {
        "colab": {
          "base_uri": "https://localhost:8080/"
        },
        "id": "exBY8GAOsQ-Z",
        "outputId": "e88d2217-116d-4080-de59-2f51c3823ec4"
      },
      "execution_count": null,
      "outputs": [
        {
          "output_type": "stream",
          "name": "stdout",
          "text": [
            "3.251562326562327\n",
            "2.5928571428571425\n"
          ]
        }
      ]
    },
    {
      "cell_type": "code",
      "source": [
        "n = int(input())\n",
        "def Totalharmonic(n):\n",
        "  if n<2:\n",
        "    return 1\n",
        "  else:\n",
        "    return 1/n+(Totalharmonic(n-1))\n",
        "print(Totalharmonic(n))"
      ],
      "metadata": {
        "colab": {
          "base_uri": "https://localhost:8080/"
        },
        "id": "DD-IqzI3tXWD",
        "outputId": "6cb2070f-5fc6-43ea-f62f-2aec0aea5375"
      },
      "execution_count": null,
      "outputs": [
        {
          "output_type": "stream",
          "name": "stdout",
          "text": [
            "7\n",
            "2.5928571428571425\n"
          ]
        }
      ]
    },
    {
      "cell_type": "code",
      "source": [
        "number = int(input())\n",
        "\n",
        "# Finding sum\n",
        "total_sum = 0\n",
        "step = 1\n",
        "\n",
        "condition = True\n",
        "\n",
        "while condition:\n",
        "\n",
        "    while number:\n",
        "        total_sum += number%10\n",
        "        number //= 10\n",
        "\n",
        "    print(\"Step-%d Sum: %d\" %(step, total_sum))\n",
        "    number = total_sum\n",
        "    total_sum = 0\n",
        "    step += 1\n",
        "    condition = number > 9"
      ],
      "metadata": {
        "colab": {
          "base_uri": "https://localhost:8080/"
        },
        "id": "ra9k8Od0thfl",
        "outputId": "cbe00d8e-df95-45cd-8378-a9051300f2bd"
      },
      "execution_count": null,
      "outputs": [
        {
          "output_type": "stream",
          "name": "stdout",
          "text": [
            "7548\n",
            "Step-1 Sum: 24\n",
            "Step-2 Sum: 6\n"
          ]
        }
      ]
    },
    {
      "cell_type": "code",
      "source": [
        "#mingle to single program\n",
        "num = int(input(\"enter the number:\"))\n",
        "sum= 0\n",
        "while num >0 or sum>=10:\n",
        "  if num==0:\n",
        "    print(\"step1 sum is \",sum)\n",
        "    num=sum\n",
        "    sum=0\n",
        "  sum+=num%10\n",
        "  num//=10\n",
        "print(sum)\n"
      ],
      "metadata": {
        "colab": {
          "base_uri": "https://localhost:8080/"
        },
        "id": "pxn1ptf43oSU",
        "outputId": "4d5f8efd-97b3-4758-e589-3931b71f0810"
      },
      "execution_count": null,
      "outputs": [
        {
          "output_type": "stream",
          "name": "stdout",
          "text": [
            "enter the number:6857856\n",
            "step1 sum is  45\n",
            "9\n"
          ]
        }
      ]
    },
    {
      "cell_type": "code",
      "source": [
        "num1=int(input(\"enter the number:\"))\n",
        "if num1%9==0:\n",
        "  print(9)\n",
        "else:\n",
        "  print(num1%9)"
      ],
      "metadata": {
        "colab": {
          "base_uri": "https://localhost:8080/"
        },
        "id": "FjfMZmcj5798",
        "outputId": "03b82ca0-8b31-41f3-a015-78dc106181e3"
      },
      "execution_count": null,
      "outputs": [
        {
          "output_type": "stream",
          "name": "stdout",
          "text": [
            "enter the number:21434135\n",
            "5\n"
          ]
        }
      ]
    },
    {
      "cell_type": "code",
      "source": [
        "print((num1-1)%9+1)"
      ],
      "metadata": {
        "colab": {
          "base_uri": "https://localhost:8080/"
        },
        "id": "KKchCxDI6hZ1",
        "outputId": "a1e412ba-76b0-4168-fd27-8b466ad443c3"
      },
      "execution_count": null,
      "outputs": [
        {
          "output_type": "stream",
          "name": "stdout",
          "text": [
            "5\n"
          ]
        }
      ]
    },
    {
      "cell_type": "code",
      "source": [
        "\n",
        "def isprime(num):\n",
        "    if num > 1:\n",
        "        for i in range(2, num):\n",
        "            if (num % i) == 0:\n",
        "                print(num, \"is not a prime number\")\n",
        "                break\n",
        "        else:\n",
        "            print(num, \"is a prime number\")\n",
        "    else:\n",
        "        print(num, \"is not a prime number\")\n",
        "\n",
        "isprime(6)\n"
      ],
      "metadata": {
        "colab": {
          "base_uri": "https://localhost:8080/"
        },
        "id": "ov25EWrRFTqV",
        "outputId": "1e33fe43-0259-44a6-99bc-6351ff58d6d8"
      },
      "execution_count": null,
      "outputs": [
        {
          "output_type": "stream",
          "name": "stdout",
          "text": [
            "6 is not a prime number\n"
          ]
        }
      ]
    },
    {
      "cell_type": "code",
      "source": [
        "def test(strs):\n",
        "    return \" \".join(strs for strs in strs.split() if is_prime(len(strs)))\n",
        "def is_prime(n):\n",
        "    return n > 1 and all(n % j for j in range(2, int(n ** 0.5) + 1))\n",
        "strs = input()\n",
        "print(test(strs))"
      ],
      "metadata": {
        "colab": {
          "base_uri": "https://localhost:8080/"
        },
        "id": "BjCqh5wCEeuz",
        "outputId": "ec889a72-8851-4dcd-e3b4-3200371661b8"
      },
      "execution_count": null,
      "outputs": [
        {
          "output_type": "stream",
          "name": "stdout",
          "text": [
            "The quick brown fox jumps over the lazy dog.\n",
            "The quick brown fox jumps the\n"
          ]
        }
      ]
    },
    {
      "cell_type": "code",
      "source": [
        "def is_prime(num):\n",
        "    if num < 2:\n",
        "        return False\n",
        "    for i in range(2, int(num**0.5) + 1):\n",
        "        if num % i == 0:\n",
        "            return False\n",
        "    return True\n",
        "\n",
        "def prime_factors(num):\n",
        "    factors = []\n",
        "    for i in range(2, num // 2 + 1):\n",
        "        if is_prime(i) and num % i == 0:\n",
        "            factors.append(i)\n",
        "    return factors\n",
        "\n",
        "def three_prime_products(n):\n",
        "    result = []\n",
        "    for i in range(2, n + 1):\n",
        "        if len(prime_factors(i)) == 3:\n",
        "            result.append(prime_factors(i))\n",
        "    return result\n",
        "\n",
        "n = int(input(\"Enter a value for n: \"))\n",
        "print(\"From 1 to {}, the numbers that are the product of exactly three primes are:\".format(n))\n",
        "print(three_prime_products(n))\n"
      ],
      "metadata": {
        "colab": {
          "base_uri": "https://localhost:8080/"
        },
        "id": "EDIaOffCLM2m",
        "outputId": "cd7f00ec-c691-49fb-ccb9-a3066a89452f"
      },
      "execution_count": null,
      "outputs": [
        {
          "output_type": "stream",
          "name": "stdout",
          "text": [
            "Enter a value for n: 10\n",
            "From 1 to 10, the numbers that are the product of exactly three primes are:\n",
            "[]\n"
          ]
        }
      ]
    },
    {
      "cell_type": "code",
      "source": [
        "#prime number in an interval\n",
        "for num in range(2,101):\n",
        "  if num>1:\n",
        "    for i in range(2,num-1):\n",
        "      if num%i==0:\n",
        "        break\n",
        "    else:\n",
        "        print(num)"
      ],
      "metadata": {
        "colab": {
          "base_uri": "https://localhost:8080/"
        },
        "id": "yYyLA_euICPp",
        "outputId": "d6ce1247-241e-4012-bcc8-cd72d955433c"
      },
      "execution_count": null,
      "outputs": [
        {
          "output_type": "stream",
          "name": "stdout",
          "text": [
            "2\n",
            "3\n",
            "5\n",
            "7\n",
            "11\n",
            "13\n",
            "17\n",
            "19\n",
            "23\n",
            "29\n",
            "31\n",
            "37\n",
            "41\n",
            "43\n",
            "47\n",
            "53\n",
            "59\n",
            "61\n",
            "67\n",
            "71\n",
            "73\n",
            "79\n",
            "83\n",
            "89\n",
            "97\n"
          ]
        }
      ]
    },
    {
      "cell_type": "code",
      "source": [
        "#to find the factorial of a number by for loop\n",
        "num=int(input(\"enter the num :\"))\n",
        "factorial=1\n",
        "if num<0:\n",
        "  print(\"factorial of 0 does not exist\")\n",
        "if num ==0 :\n",
        "  print(\"factorial of 0 is\",1)\n",
        "if num>0:\n",
        " for i in range(1,num+1):\n",
        "  factorial*=i\n",
        "print(\"the factorial of the given number is\",factorial)\n"
      ],
      "metadata": {
        "colab": {
          "base_uri": "https://localhost:8080/"
        },
        "id": "1jWSSnJBJKi2",
        "outputId": "fe3afa16-66bc-4fe1-e7b0-47b8b8d4b859"
      },
      "execution_count": null,
      "outputs": [
        {
          "output_type": "stream",
          "name": "stdout",
          "text": [
            "enter the num :7\n",
            "the factorial of the given number is 5040\n"
          ]
        }
      ]
    },
    {
      "cell_type": "code",
      "source": [
        "#find factorial by recursion\n",
        "def fact(a):\n",
        "  if a==0 or a==1:\n",
        "    return 1\n",
        "  else:\n",
        "    return ((a) * fact(a-1))\n",
        "num=int(input(\"enter the num :\"))\n",
        "result = fact(num)\n",
        "print(\"the factorial of the given number is\",result)"
      ],
      "metadata": {
        "colab": {
          "base_uri": "https://localhost:8080/"
        },
        "id": "0RQy2Fo0LOLG",
        "outputId": "079a53ad-6621-4f62-a76a-c89f10e54024"
      },
      "execution_count": null,
      "outputs": [
        {
          "output_type": "stream",
          "name": "stdout",
          "text": [
            "enter the num :9\n",
            "the factorial of the given number is 362880\n"
          ]
        }
      ]
    },
    {
      "cell_type": "code",
      "source": [
        "#to display multiplication table using for loop\n",
        "n=int(input(\"enter the number:\"))\n",
        "for i in range(1,11):\n",
        "  print(n,\"*\",i,\"=\",n*i)\n"
      ],
      "metadata": {
        "colab": {
          "base_uri": "https://localhost:8080/"
        },
        "id": "8qi6sT_KMt0Z",
        "outputId": "42383f0a-12eb-49ef-9c12-7a7fd7e888d7"
      },
      "execution_count": null,
      "outputs": [
        {
          "output_type": "stream",
          "name": "stdout",
          "text": [
            "enter the number:7\n",
            "7 * 1 = 7\n",
            "7 * 2 = 14\n",
            "7 * 3 = 21\n",
            "7 * 4 = 28\n",
            "7 * 5 = 35\n",
            "7 * 6 = 42\n",
            "7 * 7 = 49\n",
            "7 * 8 = 56\n",
            "7 * 9 = 63\n",
            "7 * 10 = 70\n"
          ]
        }
      ]
    },
    {
      "cell_type": "code",
      "source": [
        "#to display multiplication table using while loop\n",
        "n=int(input(\"enter the number:\"))\n",
        "i=1\n",
        "while i<=10:\n",
        "  print(n,\"*\",i,\"=\",n*i)\n",
        "  i+=1"
      ],
      "metadata": {
        "colab": {
          "base_uri": "https://localhost:8080/"
        },
        "id": "WzzDnIK1NjB6",
        "outputId": "35212542-9b50-446b-b53b-4d2f70b6a6d6"
      },
      "execution_count": null,
      "outputs": [
        {
          "output_type": "stream",
          "name": "stdout",
          "text": [
            "enter the number:4\n",
            "4 * 1 = 4\n",
            "4 * 2 = 8\n",
            "4 * 3 = 12\n",
            "4 * 4 = 16\n",
            "4 * 5 = 20\n",
            "4 * 6 = 24\n",
            "4 * 7 = 28\n",
            "4 * 8 = 32\n",
            "4 * 9 = 36\n",
            "4 * 10 = 40\n"
          ]
        }
      ]
    },
    {
      "cell_type": "code",
      "source": [
        "#fibonacci sequence\n",
        "n=int(input(\"enter the number:\"))\n",
        "a=0\n",
        "b=1\n",
        "if n==1:\n",
        "  print(a)\n",
        "else:\n",
        "  print(a)\n",
        "  print(b)\n",
        "  for i in range(2,n+1):\n",
        "   c=a+b\n",
        "   a=b\n",
        "   b=c\n",
        "   print(c)"
      ],
      "metadata": {
        "colab": {
          "base_uri": "https://localhost:8080/"
        },
        "id": "P6n8QiuLOYJj",
        "outputId": "2c575e46-6853-4895-bdbc-804a3b35d98f"
      },
      "execution_count": null,
      "outputs": [
        {
          "output_type": "stream",
          "name": "stdout",
          "text": [
            "enter the number:7\n",
            "0\n",
            "1\n",
            "1\n",
            "2\n",
            "3\n",
            "5\n",
            "8\n",
            "13\n"
          ]
        }
      ]
    },
    {
      "cell_type": "code",
      "source": [
        "#fibonacci sequence using recursion\n",
        "def fibo(n):\n",
        "  if n<=1:\n",
        "    return n\n",
        "  else:\n",
        "    for i in range(2,n+1):\n",
        "      return fibo(n-1) + fibo(n-2)\n",
        "fibo(9)"
      ],
      "metadata": {
        "colab": {
          "base_uri": "https://localhost:8080/"
        },
        "id": "zQpZwdP_Pk4g",
        "outputId": "427d1e6d-6593-4f4f-c603-2003da1e5afb"
      },
      "execution_count": null,
      "outputs": [
        {
          "output_type": "execute_result",
          "data": {
            "text/plain": [
              "34"
            ]
          },
          "metadata": {},
          "execution_count": 26
        }
      ]
    },
    {
      "cell_type": "code",
      "source": [
        "#armstrong number for 3 digit number\n",
        "num = int(input(\"enter the number:\"))\n",
        "sum = 0\n",
        "temp = num\n",
        "while temp>0:\n",
        " digit = temp%10 #to get the last digit of the number for example in 153 the last digit is 3\n",
        " cube = digit**3  # 3**3\n",
        " sum = sum + cube #0+27\n",
        " temp//=10 #to get the 2nd number after divinding with 10 we will get 15 by floor divison,remove the last digit\n",
        "if sum==num:\n",
        "  print(\"it is an armstrong number\")\n",
        "else:\n",
        "  print(\"it is not an armstrong number\")\n"
      ],
      "metadata": {
        "colab": {
          "base_uri": "https://localhost:8080/"
        },
        "id": "e3oMgvqQQw6e",
        "outputId": "6a31c03b-72c5-4c57-eaf7-d6e791ea2541"
      },
      "execution_count": null,
      "outputs": [
        {
          "output_type": "stream",
          "name": "stdout",
          "text": [
            "enter the number:27\n",
            "it is not an armstrong number\n"
          ]
        }
      ]
    },
    {
      "cell_type": "code",
      "source": [
        "# n order armstrong number\n",
        "num = int(input(\"enter the number:\"))\n",
        "order = len(str(num)) # for any order\n",
        "sum = 0\n",
        "temp = num\n",
        "while temp>0:\n",
        " digit = temp%10 #to get the last digit of the number for example in 153 the last digit is 3\n",
        " cube = digit**order  # cube or any power\n",
        " sum = sum + cube #0+27\n",
        " temp//=10 #to get the 2nd number after divinding with 10 we will get 15 by floor divison,remove the last digit\n",
        "if sum==num:\n",
        "  print(\"it is an armstrong number\")\n",
        "else:\n",
        "  print(\"it is not an armstrong number\")"
      ],
      "metadata": {
        "colab": {
          "base_uri": "https://localhost:8080/"
        },
        "id": "9io746knTJq4",
        "outputId": "1c08efa4-d243-4fc3-d848-230e1966c6a8"
      },
      "execution_count": null,
      "outputs": [
        {
          "output_type": "stream",
          "name": "stdout",
          "text": [
            "enter the number:9474\n",
            "it is an armstrong number\n"
          ]
        }
      ]
    },
    {
      "cell_type": "code",
      "source": [
        "#to find armstrong number in an interval\n",
        "#num = int(input(\"enter the number:\"))\n",
        "lower = int(input(\"enter the lower number:\"))\n",
        "upper = int(input(\"enter the upper number:\"))\n",
        "\n",
        "for num in range(lower,upper+1):\n",
        "  order = len(str(num))\n",
        "  sum = 0\n",
        "  temp = num\n",
        "  while temp>0:\n",
        "    digit = temp%10\n",
        "    sum += digit ** order\n",
        "    temp//=10\n",
        "  if sum==num:\n",
        "    print(num)\n",
        "\n",
        "\n",
        "\n"
      ],
      "metadata": {
        "colab": {
          "base_uri": "https://localhost:8080/"
        },
        "id": "A1z4dC9yUTxu",
        "outputId": "099d6d41-6401-48fa-df98-d0432596cc6e"
      },
      "execution_count": null,
      "outputs": [
        {
          "output_type": "stream",
          "name": "stdout",
          "text": [
            "enter the lower number:100\n",
            "enter the upper number:10000\n",
            "153\n",
            "370\n",
            "371\n",
            "407\n",
            "1634\n",
            "8208\n",
            "9474\n"
          ]
        }
      ]
    },
    {
      "cell_type": "code",
      "source": [
        "\"\"\"Get Murphy Registered for Doga\n",
        "\n",
        "Murphy, a famous sporty dog of the locality wants to get registered in Doga (Dog+Yoga).\n",
        "\n",
        "Doga (Dog + Yoga) is a trend that has emerged in the United States and is an excellent choice to get some exercise for you in the company of your pet dogs while improving their welfare in a healthy and fun way.\n",
        "\n",
        "For registration, it is required to write the age of Murphy in Dog's years.\n",
        "\n",
        "Note: For the first two years, a dog year is equal to 10.5 human years. After that, each dog year equals 4 human years.\n",
        "\n",
        "Thus, write a Python program to calculate a dog's age in dog's years from the human years as input.\"\"\"\n",
        "human_age = int(input(\"Enter the age in years: \"))\n",
        "\n",
        "if human_age <= 2:\n",
        "    dog_age = 10.5 * human_age\n",
        "else:\n",
        "    dog_age = 21 + (human_age - 2) * 4\n",
        "\n",
        "print(\"Murphy's age in dog years:\", dog_age)\n",
        "\n"
      ],
      "metadata": {
        "colab": {
          "base_uri": "https://localhost:8080/"
        },
        "id": "TEx415C-Y3tf",
        "outputId": "64d6f65d-064c-4130-d4ea-761c5bc0aa99"
      },
      "execution_count": null,
      "outputs": [
        {
          "output_type": "stream",
          "name": "stdout",
          "text": [
            "Enter the age in years: 8\n",
            "Murphy's age in dog years: 45\n"
          ]
        }
      ]
    },
    {
      "cell_type": "code",
      "source": [
        "\"\"\"Sammy has a English Language test tomorrow in which the teacher would be asking about Vowels and Consonants.\n",
        "So, help Sammy in practicing for the test by writing a Python program to check whether an alphabet is a Vowel or Consonant.\"\"\"\n",
        "alphabet = input(\"enter the alphabet\")\n",
        "if alphabet.lower() in \"aeiou\": # It converts the input alphabet to lowercase using the lower() method before checking for vowels, allowing it to handle both uppercase and lowercase input.\n",
        "  print(\"alphabet is a vowel\")\n",
        "else:\n",
        "  print(\"alphabet is not a vowel\")\n"
      ],
      "metadata": {
        "colab": {
          "base_uri": "https://localhost:8080/"
        },
        "id": "K8ffCgu7bt6B",
        "outputId": "96fe9c0a-f54f-4ed7-e575-7a4d73c2ab98"
      },
      "execution_count": null,
      "outputs": [
        {
          "output_type": "stream",
          "name": "stdout",
          "text": [
            "enter the alphabetA\n",
            "alphabet is a vowel\n"
          ]
        }
      ]
    },
    {
      "cell_type": "code",
      "source": [
        "#Write a Python program to print the following pattern of numbers in n rows to display on art board in maths exhibition.\n",
        "n = int(input(\"enter the number:\"))\n",
        "for i in range(1,n+1):\n",
        "  print(str(i)*i)"
      ],
      "metadata": {
        "colab": {
          "base_uri": "https://localhost:8080/"
        },
        "id": "TEJBeiHbeDk2",
        "outputId": "51fde892-e0e8-4690-adc6-44e7d4a63945"
      },
      "execution_count": null,
      "outputs": [
        {
          "output_type": "stream",
          "name": "stdout",
          "text": [
            "enter the number:3\n",
            "1\n",
            "22\n",
            "333\n"
          ]
        }
      ]
    },
    {
      "cell_type": "code",
      "source": [
        "\"\"\"Reschedule the meeting to next date\n",
        "\n",
        "Write a Python Program for Mr. Harry to automatically reschedule a meeting to the next date whenever it is not held on the current date.\n",
        "\n",
        "Sample\n",
        "\n",
        "Input a year: 1974\n",
        "Input a month [1-12]: 2\n",
        "Input a day [1-31]: 15\n",
        "The next date is [yyyy-mm-dd] 1974-2-16.\"\"\"\n",
        "year = int(input())\n",
        "month = int(input())\n",
        "day = int(input())\n",
        "print(\"The currect date is [yyyy-mm-dd] %d-%d-%d.\"%(year,month,day))\n",
        "if (year % 400 == 0):\n",
        "  leap_year = True\n",
        "elif (year % 100 == 0):\n",
        "  leap_year = False\n",
        "elif (year % 4 == 0):\n",
        "  leap_year = True\n",
        "else:\n",
        "  leap_year = False\n",
        "\n",
        "\n",
        "if month in (1, 3, 5, 7, 8, 10, 12):\n",
        "  month_length = 31\n",
        "elif month == 2:\n",
        "  if leap_year:\n",
        "    month_length = 29\n",
        "  else:\n",
        "    month_length = 28\n",
        "else:\n",
        "  month_length = 30\n",
        "\n",
        "if day < month_length:\n",
        "  day += 1\n",
        "else:\n",
        "  day = 1\n",
        "  if month == 12:\n",
        "    month = 1\n",
        "    year += 1\n",
        "  else:\n",
        "    month += 1\n",
        "\n",
        "print (\"The next date is [yyyy-mm-dd] %d-%d-%d.\" % (year, month, day))"
      ],
      "metadata": {
        "colab": {
          "base_uri": "https://localhost:8080/"
        },
        "id": "rY7Now2VgL64",
        "outputId": "2d5334e6-f7c6-446a-9d23-b9b1344d2890"
      },
      "execution_count": null,
      "outputs": [
        {
          "output_type": "stream",
          "name": "stdout",
          "text": [
            "1999\n",
            "6\n",
            "6\n",
            "The currect date is [yyyy-mm-dd] 1999-6-6.\n",
            "The next date is [yyyy-mm-dd] 1999-6-7.\n"
          ]
        }
      ]
    },
    {
      "cell_type": "code",
      "source": [
        "\"\"\"Let's Begin with Basic Statistics\n",
        "\n",
        "In Statistics, Mean (average) is a common term used to analyze the data.\n",
        "Thus, we should know how to program this Statistical term using Python.\n",
        "For this, write a Python program to calculate the sum and average (Mean) of n integer numbers (input from the user).\n",
        "Input 0 to finish the list.\"\"\"\n",
        "count = 0\n",
        "sum = 0.0\n",
        "number = 1\n",
        "\n",
        "while number != 0:\n",
        "        number = int(input())\n",
        "        sum = sum + number\n",
        "        count += 1\n",
        "\n",
        "if count == 0:\n",
        "        print(\"Input some numbers\")\n",
        "else:\n",
        "        print(\"Average and Sum of the above numbers are:\", sum / (count-1), sum)\n",
        "\n"
      ],
      "metadata": {
        "colab": {
          "base_uri": "https://localhost:8080/"
        },
        "id": "-27IcuXqkZ1D",
        "outputId": "7b86a962-4048-4e40-ffb1-0ffe8e0cee5f"
      },
      "execution_count": 38,
      "outputs": [
        {
          "output_type": "stream",
          "name": "stdout",
          "text": [
            "9\n",
            "8\n",
            "8\n",
            "0\n",
            "Average and Sum of the above numbers are: 8.333333333333334 25.0\n"
          ]
        }
      ]
    },
    {
      "cell_type": "code",
      "source": [
        "#Write a Python program to calculate Euclidean Distance.\n",
        "x_1, y_1 = 6, 7\n",
        "x_2, y_2 = 5, 4\n",
        "Eucli_dist = ((x_2-x_1)**2 + (y_2-y_1)**2)**(0.5)\n",
        "print(f\"The Euclidean Distance between the above given two points 'PQ' = {Eucli_dist}\")"
      ],
      "metadata": {
        "colab": {
          "base_uri": "https://localhost:8080/"
        },
        "id": "GL0Su9-rncLC",
        "outputId": "ce6258ef-ebdd-49da-cf87-2013bc31bc9b"
      },
      "execution_count": 65,
      "outputs": [
        {
          "output_type": "stream",
          "name": "stdout",
          "text": [
            "The Euclidean Distance between the above given two points 'PQ' = 3.1622776601683795\n"
          ]
        }
      ]
    },
    {
      "cell_type": "code",
      "source": [
        "#Write a Python program to find common items from two lists.\n",
        "color1 = eval(input())\n",
        "color2 = eval(input())\n",
        "s1 = set(color1)\n",
        "s2 = set(color2)\n",
        "print(s1 & s2)"
      ],
      "metadata": {
        "colab": {
          "base_uri": "https://localhost:8080/"
        },
        "id": "Q5o1lmGToZi0",
        "outputId": "707e8973-dd73-4fd5-89dd-c9a54be2ed54"
      },
      "execution_count": 45,
      "outputs": [
        {
          "output_type": "stream",
          "name": "stdout",
          "text": [
            "[\"Red\", \"Green\", \"Orange\", \"White\"]\n",
            "[\"Black\", \"Green\", \"White\", \"Pink\"]\n",
            "{'White', 'Green'}\n"
          ]
        }
      ]
    },
    {
      "cell_type": "code",
      "source": [
        "#Write a Python program to check whether a String is Palindrome or not?\n",
        "str = input(\"enter the str:\")\n",
        "str1 = str[::-1]\n",
        "if str == str1:\n",
        "  print(\"string is a palindrome\")\n",
        "else:\n",
        "  print(\"string is not a palindrome\")"
      ],
      "metadata": {
        "colab": {
          "base_uri": "https://localhost:8080/"
        },
        "id": "WcXPYJu9qKwL",
        "outputId": "96cc7fa5-55b4-497f-e547-57f9b2f63907"
      },
      "execution_count": 52,
      "outputs": [
        {
          "output_type": "stream",
          "name": "stdout",
          "text": [
            "enter the str:madam\n",
            "string is a palindrome\n"
          ]
        }
      ]
    },
    {
      "cell_type": "code",
      "source": [
        "#Write a python program to find the last position of a given substring.\n",
        "str = input(\"enter the str:\")\n",
        "substr = input(\"enter the substr:\")\n",
        "index = str.rfind(substr)\n",
        "print(\"Last occurrence of\", substr, \"starts at index\", index)"
      ],
      "metadata": {
        "colab": {
          "base_uri": "https://localhost:8080/"
        },
        "id": "ZnhBealcr9tn",
        "outputId": "409a97c3-58b3-4acd-8d9d-2957a8cbae70"
      },
      "execution_count": 54,
      "outputs": [
        {
          "output_type": "stream",
          "name": "stdout",
          "text": [
            "enter the str:Shilpa Dhiman is a data analyst .Shilpa is working very hard and earning well.\n",
            "enter the substr:Shilpa\n",
            "Last occurrence of Shilpa starts at index 33\n"
          ]
        }
      ]
    },
    {
      "cell_type": "code",
      "source": [
        "\"\"\"Remove char. from string\n",
        "\n",
        "Write a python program to remove a given character from string.\"\"\"\n",
        "str = input(\"enter the str:\").lower()\n",
        "char = input(\"enter the str:\").lower()\n",
        "\n",
        "new_str = str.replace(char,' ')\n",
        "print(new_str)"
      ],
      "metadata": {
        "colab": {
          "base_uri": "https://localhost:8080/"
        },
        "id": "bCHzaP1Dt0O9",
        "outputId": "447c7eaa-39a6-468a-c8de-f2eee9031dc1"
      },
      "execution_count": 61,
      "outputs": [
        {
          "output_type": "stream",
          "name": "stdout",
          "text": [
            "enter the str:almabetter\n",
            "enter the str:t\n",
            "almabe  er\n"
          ]
        }
      ]
    },
    {
      "cell_type": "code",
      "source": [],
      "metadata": {
        "id": "5SUh7hNUvc_r"
      },
      "execution_count": null,
      "outputs": []
    }
  ]
}